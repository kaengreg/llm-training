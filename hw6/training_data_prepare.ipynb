{
 "cells": [
  {
   "cell_type": "code",
   "execution_count": 1,
   "id": "2ccda1f1",
   "metadata": {},
   "outputs": [],
   "source": [
    "from datasets import load_dataset\n",
    "import json"
   ]
  },
  {
   "cell_type": "code",
   "execution_count": 3,
   "id": "86cd654d",
   "metadata": {},
   "outputs": [],
   "source": [
    "dataset = load_dataset('kngrg/ru-miracl-cleaned')"
   ]
  },
  {
   "cell_type": "code",
   "execution_count": 4,
   "id": "5c052aac",
   "metadata": {},
   "outputs": [],
   "source": [
    "dataset = dataset['train']"
   ]
  },
  {
   "cell_type": "code",
   "execution_count": 6,
   "id": "ab184ac6",
   "metadata": {},
   "outputs": [],
   "source": [
    "dataset = dataset.train_test_split(test_size=0.1)"
   ]
  },
  {
   "cell_type": "code",
   "execution_count": 12,
   "id": "df8905ee",
   "metadata": {},
   "outputs": [
    {
     "data": {
      "text/plain": [
       "DatasetDict({\n",
       "    train: Dataset({\n",
       "        features: ['_id', 'text'],\n",
       "        num_rows: 6140280\n",
       "    })\n",
       "    test: Dataset({\n",
       "        features: ['_id', 'text'],\n",
       "        num_rows: 682254\n",
       "    })\n",
       "})"
      ]
     },
     "execution_count": 12,
     "metadata": {},
     "output_type": "execute_result"
    }
   ],
   "source": [
    "dataset"
   ]
  },
  {
   "cell_type": "code",
   "execution_count": 13,
   "id": "18286c01",
   "metadata": {},
   "outputs": [],
   "source": [
    "def save_dataset_to_json(dataset_split, output_file, domain):\n",
    "    with open(output_file, 'w', encoding='utf-8') as f:\n",
    "        for item in dataset_split:\n",
    "            json_line = {'text': item['text'], 'domain': domain}\n",
    "            f.write(json.dumps(json_line, ensure_ascii=False) + '\\n')\n",
    "\n",
    "save_dataset_to_json(dataset['train'], 'train.json', 'ru-miracl')\n",
    "save_dataset_to_json(dataset['test'], 'val.json', 'ru-miracl')"
   ]
  },
  {
   "cell_type": "code",
   "execution_count": null,
   "id": "c2366ddb",
   "metadata": {},
   "outputs": [],
   "source": []
  }
 ],
 "metadata": {
  "kernelspec": {
   "display_name": "LLM-course",
   "language": "python",
   "name": "llm-course"
  },
  "language_info": {
   "codemirror_mode": {
    "name": "ipython",
    "version": 3
   },
   "file_extension": ".py",
   "mimetype": "text/x-python",
   "name": "python",
   "nbconvert_exporter": "python",
   "pygments_lexer": "ipython3",
   "version": "3.10.15"
  }
 },
 "nbformat": 4,
 "nbformat_minor": 5
}
